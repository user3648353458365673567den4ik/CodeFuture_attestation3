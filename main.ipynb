{
 "cells": [
  {
   "cell_type": "code",
   "execution_count": 1,
   "id": "initial_id",
   "metadata": {
    "collapsed": true,
    "ExecuteTime": {
     "end_time": "2024-02-24T19:52:38.542579Z",
     "start_time": "2024-02-24T19:52:38.260696Z"
    }
   },
   "outputs": [],
   "source": [
    "import numpy as np"
   ]
  },
  {
   "cell_type": "code",
   "outputs": [],
   "source": [
    "class Generator:\n",
    "    def __init__(self, size_x: int, size_y: int):\n",
    "        self.generated_list = np.random.rand(size_x, size_y)\n",
    "        \n",
    "    def return_sorted(self, reverse: bool = False):\n",
    "        return np.sort(self.generated_list) if reverse else np.sort(self.generated_list, -1)"
   ],
   "metadata": {
    "collapsed": false,
    "ExecuteTime": {
     "end_time": "2024-02-24T20:01:42.628447Z",
     "start_time": "2024-02-24T20:01:42.623962Z"
    }
   },
   "id": "51317f18b88cf22d",
   "execution_count": 14
  },
  {
   "cell_type": "code",
   "outputs": [],
   "source": [
    "generator = Generator(5, 5)"
   ],
   "metadata": {
    "collapsed": false,
    "ExecuteTime": {
     "end_time": "2024-02-24T20:03:10.568780Z",
     "start_time": "2024-02-24T20:03:10.563875Z"
    }
   },
   "id": "83df2076179fb029",
   "execution_count": 20
  },
  {
   "cell_type": "code",
   "outputs": [
    {
     "name": "stdout",
     "output_type": "stream",
     "text": [
      "Созданный массив: [[0.01047872 0.08864921 0.59569279 0.34925314 0.42271289]\n",
      " [0.28098661 0.80300686 0.83369511 0.19969484 0.5530049 ]\n",
      " [0.51271135 0.71308949 0.83282446 0.99916358 0.20707608]\n",
      " [0.64068989 0.11407636 0.85128926 0.7159588  0.33938966]\n",
      " [0.00521872 0.73567987 0.90689564 0.46748295 0.7912936 ]]\n",
      "Отсортированный массив: [[0.01047872 0.08864921 0.34925314 0.42271289 0.59569279]\n",
      " [0.19969484 0.28098661 0.5530049  0.80300686 0.83369511]\n",
      " [0.20707608 0.51271135 0.71308949 0.83282446 0.99916358]\n",
      " [0.11407636 0.33938966 0.64068989 0.7159588  0.85128926]\n",
      " [0.00521872 0.46748295 0.73567987 0.7912936  0.90689564]]\n",
      "Отсортированный в обратную сторону массив: [[0.01047872 0.08864921 0.34925314 0.42271289 0.59569279]\n",
      " [0.19969484 0.28098661 0.5530049  0.80300686 0.83369511]\n",
      " [0.20707608 0.51271135 0.71308949 0.83282446 0.99916358]\n",
      " [0.11407636 0.33938966 0.64068989 0.7159588  0.85128926]\n",
      " [0.00521872 0.46748295 0.73567987 0.7912936  0.90689564]]\n"
     ]
    }
   ],
   "source": [
    "print(f'Созданный массив: {generator.generated_list}')\n",
    "print(f'Отсортированный массив: {generator.return_sorted()}')\n",
    "print(f'Отсортированный в обратную сторону массив: {generator.return_sorted(reverse=True)}')"
   ],
   "metadata": {
    "collapsed": false,
    "ExecuteTime": {
     "end_time": "2024-02-24T20:05:04.004146Z",
     "start_time": "2024-02-24T20:05:03.998139Z"
    }
   },
   "id": "402a0bf56d77aa3a",
   "execution_count": 23
  },
  {
   "cell_type": "code",
   "outputs": [],
   "source": [],
   "metadata": {
    "collapsed": false
   },
   "id": "c68b5a793754ff78"
  }
 ],
 "metadata": {
  "kernelspec": {
   "display_name": "Python 3",
   "language": "python",
   "name": "python3"
  },
  "language_info": {
   "codemirror_mode": {
    "name": "ipython",
    "version": 2
   },
   "file_extension": ".py",
   "mimetype": "text/x-python",
   "name": "python",
   "nbconvert_exporter": "python",
   "pygments_lexer": "ipython2",
   "version": "2.7.6"
  }
 },
 "nbformat": 4,
 "nbformat_minor": 5
}
